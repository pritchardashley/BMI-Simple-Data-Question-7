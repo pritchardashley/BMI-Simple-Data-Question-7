{
 "cells": [
  {
   "cell_type": "code",
   "execution_count": 1,
   "id": "dc50e66f-d06a-4d68-9a4a-412d8ba057ef",
   "metadata": {},
   "outputs": [],
   "source": [
    "#Question 7"
   ]
  },
  {
   "cell_type": "code",
   "execution_count": 2,
   "id": "a0f88671-1751-4cb4-8e3f-3c84df7a3323",
   "metadata": {},
   "outputs": [],
   "source": [
    "# number of medications = 5"
   ]
  },
  {
   "cell_type": "code",
   "execution_count": 3,
   "id": "7214e2e8-447c-438b-92e9-aa63981e072c",
   "metadata": {},
   "outputs": [],
   "source": [
    "medications = 5"
   ]
  },
  {
   "cell_type": "code",
   "execution_count": 4,
   "id": "13025497-f8d5-44ea-8b2d-079e9308fa5c",
   "metadata": {},
   "outputs": [
    {
     "name": "stdout",
     "output_type": "stream",
     "text": [
      "<class 'int'>\n"
     ]
    }
   ],
   "source": [
    "print(type(medications))"
   ]
  },
  {
   "cell_type": "code",
   "execution_count": null,
   "id": "5d17636d-3c72-48e7-be38-28ef38ca25ed",
   "metadata": {},
   "outputs": [],
   "source": []
  }
 ],
 "metadata": {
  "kernelspec": {
   "display_name": "Python 3 (ipykernel)",
   "language": "python",
   "name": "python3"
  },
  "language_info": {
   "codemirror_mode": {
    "name": "ipython",
    "version": 3
   },
   "file_extension": ".py",
   "mimetype": "text/x-python",
   "name": "python",
   "nbconvert_exporter": "python",
   "pygments_lexer": "ipython3",
   "version": "3.12.4"
  }
 },
 "nbformat": 4,
 "nbformat_minor": 5
}
